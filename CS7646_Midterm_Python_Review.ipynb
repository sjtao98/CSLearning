{
  "nbformat": 4,
  "nbformat_minor": 0,
  "metadata": {
    "colab": {
      "provenance": [],
      "authorship_tag": "ABX9TyMwWc+epHuqNVGIR0ucYdPe",
      "include_colab_link": true
    },
    "kernelspec": {
      "name": "python3",
      "display_name": "Python 3"
    },
    "language_info": {
      "name": "python"
    }
  },
  "cells": [
    {
      "cell_type": "markdown",
      "metadata": {
        "id": "view-in-github",
        "colab_type": "text"
      },
      "source": [
        "<a href=\"https://colab.research.google.com/github/sjtao98/CSLearning/blob/main/CS7646_Midterm_Python_Review.ipynb\" target=\"_parent\"><img src=\"https://colab.research.google.com/assets/colab-badge.svg\" alt=\"Open In Colab\"/></a>"
      ]
    },
    {
      "cell_type": "markdown",
      "source": [
        "This file is created based on https://docs.google.com/document/d/1sVHdIchHNMJro0CbxIBXexCwQ621MPMe-sCG3KTCdEo/pub"
      ],
      "metadata": {
        "id": "qZGNfvWxiCGU"
      }
    },
    {
      "cell_type": "code",
      "execution_count": 2,
      "metadata": {
        "colab": {
          "base_uri": "https://localhost:8080/"
        },
        "id": "5IQRxIR1VXju",
        "outputId": "0bb46c76-3197-4917-fda3-1033eed98ba0"
      },
      "outputs": [
        {
          "output_type": "stream",
          "name": "stdout",
          "text": [
            "       AAPL   SPY\n",
            "01-01    52  83.0\n",
            "01-02    46  88.0\n",
            "01-03    50   NaN\n",
            "01-04    51  86.0\n"
          ]
        }
      ],
      "source": [
        "import numpy as np\n",
        "import pandas as pd\n",
        "\n",
        "df = pd.DataFrame([52, 46, 50, 51], columns = ['AAPL'], index = ['01-01', '01-02', '01-03', '01-04'])\n",
        "\n",
        "df = df.join(pd.DataFrame([83, 88, 86, 90], columns = ['SPY'], index = ['01-01', '01-02', '01-04', '01-05']))\n",
        "\n",
        "print(df)"
      ]
    },
    {
      "cell_type": "code",
      "source": [
        "d = {\"SPY\" : [86.80, 86.70, 87.28, 84.67, 85.01],\n",
        "    \"AAPL\": [90.36, 94.18, 92.62, 90.62, 92.30],\n",
        "    \"HNZ\" : [33.95, 33.82, 33.38, 32.59, 31.99],\n",
        "    \"XOM\" : [74.48, 74.47, 73.26, 71.39, 85.13],\n",
        "    \"GLD\" : [86.23, 84.48, 85.13, 82.75, 84.46]}\n",
        "\n",
        "df = pd.DataFrame(d)\n",
        "print(df)\n",
        "\n",
        "normed = df/df.loc[0] #df.ix[0]\n",
        "print(normed)\n",
        "\n",
        "normed['AAPL'] = np.nan\n",
        "print(normed)\n",
        "\n",
        "normed.fillna(value='0')\n",
        "print(normed)\n",
        "\n",
        "print(normed[0:2])"
      ],
      "metadata": {
        "colab": {
          "base_uri": "https://localhost:8080/"
        },
        "id": "J7-1hEJJVvKV",
        "outputId": "c84fb372-b502-4304-8235-35553e90ed80"
      },
      "execution_count": 7,
      "outputs": [
        {
          "output_type": "stream",
          "name": "stdout",
          "text": [
            "     SPY   AAPL    HNZ    XOM    GLD\n",
            "0  86.80  90.36  33.95  74.48  86.23\n",
            "1  86.70  94.18  33.82  74.47  84.48\n",
            "2  87.28  92.62  33.38  73.26  85.13\n",
            "3  84.67  90.62  32.59  71.39  82.75\n",
            "4  85.01  92.30  31.99  85.13  84.46\n",
            "        SPY      AAPL       HNZ       XOM       GLD\n",
            "0  1.000000  1.000000  1.000000  1.000000  1.000000\n",
            "1  0.998848  1.042275  0.996171  0.999866  0.979705\n",
            "2  1.005530  1.025011  0.983211  0.983620  0.987243\n",
            "3  0.975461  1.002877  0.959941  0.958512  0.959643\n",
            "4  0.979378  1.021470  0.942268  1.142991  0.979474\n",
            "        SPY  AAPL       HNZ       XOM       GLD\n",
            "0  1.000000   NaN  1.000000  1.000000  1.000000\n",
            "1  0.998848   NaN  0.996171  0.999866  0.979705\n",
            "2  1.005530   NaN  0.983211  0.983620  0.987243\n",
            "3  0.975461   NaN  0.959941  0.958512  0.959643\n",
            "4  0.979378   NaN  0.942268  1.142991  0.979474\n",
            "        SPY  AAPL       HNZ       XOM       GLD\n",
            "0  1.000000   NaN  1.000000  1.000000  1.000000\n",
            "1  0.998848   NaN  0.996171  0.999866  0.979705\n",
            "2  1.005530   NaN  0.983211  0.983620  0.987243\n",
            "3  0.975461   NaN  0.959941  0.958512  0.959643\n",
            "4  0.979378   NaN  0.942268  1.142991  0.979474\n",
            "        SPY  AAPL       HNZ       XOM       GLD\n",
            "0  1.000000   NaN  1.000000  1.000000  1.000000\n",
            "1  0.998848   NaN  0.996171  0.999866  0.979705\n"
          ]
        }
      ]
    },
    {
      "cell_type": "code",
      "source": [
        "array = np.ones((2,3,4))\n",
        "array = array * 2\n",
        "print(array.sum(axis=None))"
      ],
      "metadata": {
        "colab": {
          "base_uri": "https://localhost:8080/"
        },
        "id": "miqumDNLXUi8",
        "outputId": "1bbe218a-b9e5-4dfe-a144-ea764b6cb170"
      },
      "execution_count": 8,
      "outputs": [
        {
          "output_type": "stream",
          "name": "stdout",
          "text": [
            "48.0\n"
          ]
        }
      ]
    },
    {
      "cell_type": "code",
      "source": [
        "x = True\n",
        "df1 = pd.DataFrame([[1,0,-5],[2,0,-1],[1,4,0]])\n",
        "print(df1)\n",
        "\n",
        "f = lambda x: np.abs(x)>1\n",
        "df1[f(df1)] = \"!!!\"\n",
        "print(df1)"
      ],
      "metadata": {
        "colab": {
          "base_uri": "https://localhost:8080/"
        },
        "id": "uexjzKd1XfZI",
        "outputId": "6cb8adec-e64c-4982-9cd6-88cfbb3ae633"
      },
      "execution_count": 9,
      "outputs": [
        {
          "output_type": "stream",
          "name": "stdout",
          "text": [
            "   0  1  2\n",
            "0  1  0 -5\n",
            "1  2  0 -1\n",
            "2  1  4  0\n",
            "     0    1    2\n",
            "0    1    0  !!!\n",
            "1  !!!    0   -1\n",
            "2    1  !!!    0\n"
          ]
        }
      ]
    },
    {
      "cell_type": "code",
      "source": [
        "a = np.ones((3,3))\n",
        "print(a)\n",
        "\n",
        "b = a\n",
        "b[0,1] = 2\n",
        "\n",
        "print(b)\n",
        "print(a)\n",
        "\n",
        "b = a.copy()   # what should be filled instead of _A_ for below ouputs to be true ?\n",
        "\n",
        "b[0,1] = 3\n",
        "print(b)\n",
        "print(a)"
      ],
      "metadata": {
        "colab": {
          "base_uri": "https://localhost:8080/"
        },
        "id": "iXwCSjXyXyri",
        "outputId": "bbcc1857-0638-4aae-ebff-d5f1c0862dfc"
      },
      "execution_count": 10,
      "outputs": [
        {
          "output_type": "stream",
          "name": "stdout",
          "text": [
            "[[1. 1. 1.]\n",
            " [1. 1. 1.]\n",
            " [1. 1. 1.]]\n",
            "[[1. 2. 1.]\n",
            " [1. 1. 1.]\n",
            " [1. 1. 1.]]\n",
            "[[1. 2. 1.]\n",
            " [1. 1. 1.]\n",
            " [1. 1. 1.]]\n",
            "[[1. 3. 1.]\n",
            " [1. 1. 1.]\n",
            " [1. 1. 1.]]\n",
            "[[1. 2. 1.]\n",
            " [1. 1. 1.]\n",
            " [1. 1. 1.]]\n"
          ]
        }
      ]
    },
    {
      "cell_type": "code",
      "source": [
        "a = np.array([2]*4)\n",
        "\n",
        "b = np.array([1, 2, 3, 4, 5, 6, 7])\n",
        "b[1:] * a[-1]"
      ],
      "metadata": {
        "colab": {
          "base_uri": "https://localhost:8080/"
        },
        "id": "NmZNs_bOYUeI",
        "outputId": "03c42239-0a5b-4ca9-baef-d76e64a3a582"
      },
      "execution_count": 11,
      "outputs": [
        {
          "output_type": "execute_result",
          "data": {
            "text/plain": [
              "array([ 4,  6,  8, 10, 12, 14])"
            ]
          },
          "metadata": {},
          "execution_count": 11
        }
      ]
    },
    {
      "cell_type": "code",
      "source": [
        "j = [8, 7, 6, 5, 4, 3, 2, 1]\n",
        "print(j[-2])\n",
        "print([x/j[-2] for x in j[1:-1]])"
      ],
      "metadata": {
        "colab": {
          "base_uri": "https://localhost:8080/"
        },
        "id": "P-GQpl_AYdyk",
        "outputId": "c36487b2-685e-4960-87e5-ee9dad3ce099"
      },
      "execution_count": 13,
      "outputs": [
        {
          "output_type": "stream",
          "name": "stdout",
          "text": [
            "2\n",
            "[3.5, 3.0, 2.5, 2.0, 1.5, 1.0]\n"
          ]
        }
      ]
    },
    {
      "cell_type": "code",
      "source": [
        "syms=['IBM', 'AAPL', 'HNZ', 'XOM', 'GLD']\n",
        "prices =  pd.DataFrame(np.random.rand(10, len(syms)),columns=syms)\n",
        "print(prices.tail(1).values)"
      ],
      "metadata": {
        "colab": {
          "base_uri": "https://localhost:8080/"
        },
        "id": "Yq4O1r-pY7se",
        "outputId": "1b02585b-dba6-43df-f506-9a35b4ea296c"
      },
      "execution_count": 14,
      "outputs": [
        {
          "output_type": "stream",
          "name": "stdout",
          "text": [
            "[[0.79518586 0.86751754 0.71226448 0.21693529 0.38252749]]\n"
          ]
        }
      ]
    },
    {
      "cell_type": "code",
      "source": [
        "a = np.random.randint(10, 30, size=(2, 4))\n",
        "print(a)\n",
        "print(a.size)\n",
        "print(a.shape[0])\n",
        "print(a.shape[1])"
      ],
      "metadata": {
        "colab": {
          "base_uri": "https://localhost:8080/"
        },
        "id": "D0UMby4OZIZ6",
        "outputId": "d7077ed3-53c5-4b68-aa00-447360adb5d5"
      },
      "execution_count": 15,
      "outputs": [
        {
          "output_type": "stream",
          "name": "stdout",
          "text": [
            "[[19 24 29 29]\n",
            " [27 22 18 26]]\n",
            "8\n",
            "2\n",
            "4\n"
          ]
        }
      ]
    },
    {
      "cell_type": "code",
      "source": [
        "weekSales =  pd.DataFrame(np.random.random([7,3])*100,\n",
        "            index=['Sun', 'Mon', 'Tues', 'Wed', 'Thurs', 'Fri', 'Sat'],\n",
        "            columns=['Coffee', 'Donuts', 'Bagels'])\n",
        "\n",
        "print(weekSales)\n",
        "\n",
        "print(np.sum(np.sum(weekSales)))\n",
        "print(np.sum(weekSales, axis=1))\n",
        "print(np.sum(weekSales, axis=0))"
      ],
      "metadata": {
        "colab": {
          "base_uri": "https://localhost:8080/"
        },
        "id": "T_aVfMeWZhVE",
        "outputId": "e29cd208-d855-4749-c85c-794735ce74ce"
      },
      "execution_count": 17,
      "outputs": [
        {
          "output_type": "stream",
          "name": "stdout",
          "text": [
            "          Coffee     Donuts     Bagels\n",
            "Sun    62.617067  11.009788   1.519111\n",
            "Mon    26.800183  19.956028  12.004497\n",
            "Tues    9.613283  41.837002  86.478129\n",
            "Wed    33.566281  88.818588  90.136684\n",
            "Thurs   3.973817  42.323564  81.131315\n",
            "Fri     7.710533   9.343809  47.595444\n",
            "Sat    71.041699  48.817272  68.811428\n",
            "865.1055230319482\n",
            "Sun       75.145966\n",
            "Mon       58.760708\n",
            "Tues     137.928413\n",
            "Wed      212.521554\n",
            "Thurs    127.428696\n",
            "Fri       64.649786\n",
            "Sat      188.670400\n",
            "dtype: float64\n",
            "Coffee    215.322864\n",
            "Donuts    262.106051\n",
            "Bagels    387.676608\n",
            "dtype: float64\n"
          ]
        }
      ]
    },
    {
      "cell_type": "code",
      "source": [
        "x = np.array([[1,2,3,4],\n",
        "             [4,5,6,7],\n",
        "             [8,9,0,1]])\n",
        "\n",
        "print(x[:,[0,2]])"
      ],
      "metadata": {
        "colab": {
          "base_uri": "https://localhost:8080/"
        },
        "id": "VKS09-Tad74H",
        "outputId": "b2c70c51-49c4-4c24-d5b8-46917669bade"
      },
      "execution_count": 20,
      "outputs": [
        {
          "output_type": "stream",
          "name": "stdout",
          "text": [
            "[[1 3]\n",
            " [4 6]\n",
            " [8 0]]\n"
          ]
        }
      ]
    },
    {
      "cell_type": "code",
      "source": [
        "dates = pd.date_range('2015-01-01', '2015-01-04', name='Date')\n",
        "df = pd.DataFrame(index=dates)\n",
        "df['count'] = [i for i in range(len(df))]\n",
        "\n",
        "print(df)\n",
        "\n",
        "df = df.reset_index(['Date'])\n",
        "print(df)\n",
        "\n",
        "df.set_index('count', inplace=True)\n",
        "print(df)"
      ],
      "metadata": {
        "colab": {
          "base_uri": "https://localhost:8080/"
        },
        "id": "3fEAZnrWeR_G",
        "outputId": "08f6a4b6-859a-4c0d-895e-6035f3df3d61"
      },
      "execution_count": 25,
      "outputs": [
        {
          "output_type": "stream",
          "name": "stdout",
          "text": [
            "            count\n",
            "Date             \n",
            "2015-01-01      0\n",
            "2015-01-02      1\n",
            "2015-01-03      2\n",
            "2015-01-04      3\n",
            "        Date  count\n",
            "0 2015-01-01      0\n",
            "1 2015-01-02      1\n",
            "2 2015-01-03      2\n",
            "3 2015-01-04      3\n",
            "            Date\n",
            "count           \n",
            "0     2015-01-01\n",
            "1     2015-01-02\n",
            "2     2015-01-03\n",
            "3     2015-01-04\n"
          ]
        }
      ]
    },
    {
      "cell_type": "code",
      "source": [
        "df = np.array([2, 3, 4, 5])\n",
        "#print(pd.rolling_mean(df, window=2))\n",
        "print(pd.Series(df).rolling(window=2).mean())"
      ],
      "metadata": {
        "colab": {
          "base_uri": "https://localhost:8080/"
        },
        "id": "XZNIBR7CfACX",
        "outputId": "df6fff7b-8a10-46cc-de65-ae2334ea89c9"
      },
      "execution_count": 27,
      "outputs": [
        {
          "output_type": "stream",
          "name": "stdout",
          "text": [
            "0    NaN\n",
            "1    2.5\n",
            "2    3.5\n",
            "3    4.5\n",
            "dtype: float64\n"
          ]
        }
      ]
    },
    {
      "cell_type": "code",
      "source": [
        "a = np.arange(5, 0, -1)\n",
        "print(a)\n",
        "print(a[a < 3])"
      ],
      "metadata": {
        "colab": {
          "base_uri": "https://localhost:8080/"
        },
        "id": "wY-G-_Nifv3_",
        "outputId": "4a01ca5c-e0d8-4955-9c8b-3a13b49b9049"
      },
      "execution_count": 29,
      "outputs": [
        {
          "output_type": "stream",
          "name": "stdout",
          "text": [
            "[5 4 3 2 1]\n",
            "[2 1]\n"
          ]
        }
      ]
    },
    {
      "cell_type": "code",
      "source": [
        "df1 = pd.DataFrame([[10, 'w'],\n",
        "                   [20, 'x'],\n",
        "                   [30, 'y'],\n",
        "                   [40, 'z']],\n",
        "                 columns=['numbers', 'letters'],\n",
        "                 index=['a', 'b', 'c', 'd'])\n",
        "\n",
        "\n",
        "df2 = pd.DataFrame([[1.0, '#'],\n",
        "                   [2.0, '@'],\n",
        "                   [3.0, '%'],\n",
        "                   [4.0, '$']],\n",
        "                 columns=['floats', 'symbols'],\n",
        "                 index=['a', 'b', 'c', 'e'])\n",
        "\n",
        "print(df1.join(df2, how='right'))\n",
        "print(df1.join(df2, how='inner'))\n",
        "print(df1.join(df2, how='outer'))\n",
        "print(df1.join(df2, how='left'))"
      ],
      "metadata": {
        "colab": {
          "base_uri": "https://localhost:8080/"
        },
        "id": "ln1Qq6bbhdnl",
        "outputId": "6d05bbc4-6d1c-4c00-be76-51c3469070d2"
      },
      "execution_count": 31,
      "outputs": [
        {
          "output_type": "stream",
          "name": "stdout",
          "text": [
            "   numbers letters  floats symbols\n",
            "a     10.0       w     1.0       #\n",
            "b     20.0       x     2.0       @\n",
            "c     30.0       y     3.0       %\n",
            "e      NaN     NaN     4.0       $\n",
            "   numbers letters  floats symbols\n",
            "a       10       w     1.0       #\n",
            "b       20       x     2.0       @\n",
            "c       30       y     3.0       %\n",
            "   numbers letters  floats symbols\n",
            "a     10.0       w     1.0       #\n",
            "b     20.0       x     2.0       @\n",
            "c     30.0       y     3.0       %\n",
            "d     40.0       z     NaN     NaN\n",
            "e      NaN     NaN     4.0       $\n",
            "   numbers letters  floats symbols\n",
            "a       10       w     1.0       #\n",
            "b       20       x     2.0       @\n",
            "c       30       y     3.0       %\n",
            "d       40       z     NaN     NaN\n"
          ]
        }
      ]
    },
    {
      "cell_type": "code",
      "source": [
        "j=np.random.random([4,4])\n",
        "print(j)\n",
        "print(j[1:3, 2:])"
      ],
      "metadata": {
        "colab": {
          "base_uri": "https://localhost:8080/"
        },
        "id": "z2lv9Xfjh3I3",
        "outputId": "6d4b49cd-998f-41a9-b035-fc350609fa57"
      },
      "execution_count": 34,
      "outputs": [
        {
          "output_type": "stream",
          "name": "stdout",
          "text": [
            "[[0.94026013 0.66188796 0.90505363 0.10591468]\n",
            " [0.85776298 0.68528956 0.77996127 0.52642608]\n",
            " [0.36404891 0.7433417  0.23152597 0.33431678]\n",
            " [0.89030492 0.27138348 0.03080082 0.30348961]]\n",
            "[[0.77996127 0.52642608]\n",
            " [0.23152597 0.33431678]]\n"
          ]
        }
      ]
    },
    {
      "cell_type": "code",
      "source": [
        "a = np.random.randint(0,10,size=(3,3))\n",
        "print (\"Matrix a is \",a)\n",
        "value = np.mean(a.min(axis = 0))\n",
        "print (\"Variable value is\", value)"
      ],
      "metadata": {
        "colab": {
          "base_uri": "https://localhost:8080/"
        },
        "id": "ynurUPayirJ1",
        "outputId": "f434f8f6-9b91-4ca9-f7f2-04859d73d0fa"
      },
      "execution_count": 35,
      "outputs": [
        {
          "output_type": "stream",
          "name": "stdout",
          "text": [
            "Matrix a is  [[8 2 4]\n",
            " [7 7 1]\n",
            " [7 3 3]]\n",
            "Variable value is 3.3333333333333335\n"
          ]
        }
      ]
    },
    {
      "cell_type": "code",
      "source": [
        "ary = np.array([[[1, 2], [3, 4]], [[5, 6], [7,8]]])\n",
        "print(ary[:, :, 0])\n",
        "print(ary[:, 0, :])\n",
        "print(ary[0, :, :])"
      ],
      "metadata": {
        "colab": {
          "base_uri": "https://localhost:8080/"
        },
        "id": "p3heCG34jjYX",
        "outputId": "fbed25cc-0b39-49e2-e737-5dddf7df35cd"
      },
      "execution_count": 38,
      "outputs": [
        {
          "output_type": "stream",
          "name": "stdout",
          "text": [
            "[[1 3]\n",
            " [5 7]]\n",
            "[[1 2]\n",
            " [5 6]]\n",
            "[[1 2]\n",
            " [3 4]]\n"
          ]
        }
      ]
    },
    {
      "cell_type": "code",
      "source": [
        "a = np.array([[1,2,3,4,5],\n",
        "             [6,7,8,9,10],\n",
        "             [11,12,13,14,15],\n",
        "             [16,17,18,19,20],\n",
        "             [21,22,23,24,25]])\n",
        "\n",
        "print(a[:,1:5:2])"
      ],
      "metadata": {
        "colab": {
          "base_uri": "https://localhost:8080/"
        },
        "id": "1E2U9ip_jwlQ",
        "outputId": "e44b3e37-82ec-4d0b-eb2f-a161700073db"
      },
      "execution_count": 39,
      "outputs": [
        {
          "output_type": "stream",
          "name": "stdout",
          "text": [
            "[[ 2  4]\n",
            " [ 7  9]\n",
            " [12 14]\n",
            " [17 19]\n",
            " [22 24]]\n"
          ]
        }
      ]
    },
    {
      "cell_type": "code",
      "source": [
        "a=np.ones((3,3))*2\n",
        "b=a.dot(a)\n",
        "print(a)\n",
        "print(b)"
      ],
      "metadata": {
        "colab": {
          "base_uri": "https://localhost:8080/"
        },
        "id": "W6lqXxaRkIu6",
        "outputId": "acd6128b-082d-46d6-bcd2-62821d9dfb6d"
      },
      "execution_count": 40,
      "outputs": [
        {
          "output_type": "stream",
          "name": "stdout",
          "text": [
            "[[2. 2. 2.]\n",
            " [2. 2. 2.]\n",
            " [2. 2. 2.]]\n",
            "[[12. 12. 12.]\n",
            " [12. 12. 12.]\n",
            " [12. 12. 12.]]\n"
          ]
        }
      ]
    },
    {
      "cell_type": "code",
      "source": [
        "df1 = pd.DataFrame( {'var1': [1,2,3,4,5], 'var2': [11,12,13,14,15]}, index = ['cat','dog', 'bird', 'fish', 'turtle'] )\n",
        "df2 = pd.DataFrame( {'var3': [101,102,103,104,105]}, index = ['dog', 'bird', 'cat', 'turtle', 'fish'] )\n",
        "df3 = df1.join(df2)\n",
        "\n",
        "print(df1)\n",
        "print(df2)\n",
        "print(df3)\n",
        "print(df3.loc['bird','var2']) #ix\n"
      ],
      "metadata": {
        "colab": {
          "base_uri": "https://localhost:8080/"
        },
        "id": "qXLmfpgZkYc5",
        "outputId": "8c7f9eb5-03b8-45b8-c314-e3591dff6727"
      },
      "execution_count": 41,
      "outputs": [
        {
          "output_type": "stream",
          "name": "stdout",
          "text": [
            "        var1  var2\n",
            "cat        1    11\n",
            "dog        2    12\n",
            "bird       3    13\n",
            "fish       4    14\n",
            "turtle     5    15\n",
            "        var3\n",
            "dog      101\n",
            "bird     102\n",
            "cat      103\n",
            "turtle   104\n",
            "fish     105\n",
            "        var1  var2  var3\n",
            "cat        1    11   103\n",
            "dog        2    12   101\n",
            "bird       3    13   102\n",
            "fish       4    14   105\n",
            "turtle     5    15   104\n",
            "13\n"
          ]
        }
      ]
    },
    {
      "cell_type": "code",
      "source": [
        "df = pd.DataFrame(np.random.randn(5, 3), index=['2013-01-02', '2013-01-03', '2013-01-04', '2013-01-05', '2013-01-08'], columns=['a', 'b', 'c'])\n",
        "df = df.reindex(['2013-01-01', '2013-01-02', '2013-01-03', '2013-01-04', '2013-01-05','2013-01-07', '2013-01-08', '2013-01-09'])\n",
        "print(df)\n",
        "df.fillna(method='ffill', inplace=True)\n",
        "print(df)\n",
        "df.fillna(method='bfill', inplace=True)\n",
        "print(df)"
      ],
      "metadata": {
        "colab": {
          "base_uri": "https://localhost:8080/"
        },
        "id": "oAm-cU3Dk5Jn",
        "outputId": "865e76a5-c161-4812-94b7-db667657e600"
      },
      "execution_count": 45,
      "outputs": [
        {
          "output_type": "stream",
          "name": "stdout",
          "text": [
            "                   a         b         c\n",
            "2013-01-01       NaN       NaN       NaN\n",
            "2013-01-02 -0.453618  0.032285 -0.066579\n",
            "2013-01-03 -0.185006 -1.065728 -1.527742\n",
            "2013-01-04 -0.508177 -0.927670  0.536210\n",
            "2013-01-05  0.373791 -0.887297 -0.233123\n",
            "2013-01-07       NaN       NaN       NaN\n",
            "2013-01-08  0.276597  2.129731  0.957932\n",
            "2013-01-09       NaN       NaN       NaN\n",
            "                   a         b         c\n",
            "2013-01-01       NaN       NaN       NaN\n",
            "2013-01-02 -0.453618  0.032285 -0.066579\n",
            "2013-01-03 -0.185006 -1.065728 -1.527742\n",
            "2013-01-04 -0.508177 -0.927670  0.536210\n",
            "2013-01-05  0.373791 -0.887297 -0.233123\n",
            "2013-01-07  0.373791 -0.887297 -0.233123\n",
            "2013-01-08  0.276597  2.129731  0.957932\n",
            "2013-01-09  0.276597  2.129731  0.957932\n",
            "                   a         b         c\n",
            "2013-01-01 -0.453618  0.032285 -0.066579\n",
            "2013-01-02 -0.453618  0.032285 -0.066579\n",
            "2013-01-03 -0.185006 -1.065728 -1.527742\n",
            "2013-01-04 -0.508177 -0.927670  0.536210\n",
            "2013-01-05  0.373791 -0.887297 -0.233123\n",
            "2013-01-07  0.373791 -0.887297 -0.233123\n",
            "2013-01-08  0.276597  2.129731  0.957932\n",
            "2013-01-09  0.276597  2.129731  0.957932\n"
          ]
        }
      ]
    },
    {
      "cell_type": "code",
      "source": [
        "k= np.array([[2, 4, 8, 16], [16.0, 8.0, 4.0, 2.0]])\n",
        "\n",
        "print(k[1,2:-1]/k[-2,-2])"
      ],
      "metadata": {
        "colab": {
          "base_uri": "https://localhost:8080/"
        },
        "id": "tb5gmTkemBf7",
        "outputId": "c7ddb0d8-55f2-495e-9320-c0cd7a8eff71"
      },
      "execution_count": 46,
      "outputs": [
        {
          "output_type": "stream",
          "name": "stdout",
          "text": [
            "[0.5]\n"
          ]
        }
      ]
    },
    {
      "cell_type": "code",
      "source": [
        "j = np.array([(1,2,3),(4,5,6),(7,8,9)])\n",
        "k = j[:,-1:]\n",
        "print(k)\n",
        "print(k.shape)"
      ],
      "metadata": {
        "colab": {
          "base_uri": "https://localhost:8080/"
        },
        "id": "-sIahlPymN_c",
        "outputId": "3a54b2d6-4b3d-416b-97dd-8f5ea605395e"
      },
      "execution_count": 48,
      "outputs": [
        {
          "output_type": "stream",
          "name": "stdout",
          "text": [
            "[[3]\n",
            " [6]\n",
            " [9]]\n",
            "(3, 1)\n"
          ]
        }
      ]
    },
    {
      "cell_type": "code",
      "source": [
        "syms=['GOOG','AAPL','GLD','XOM']\n",
        "num_syms = len(syms)\n",
        "allocs = [1.0 / num_syms] * num_syms\n",
        "print(allocs)"
      ],
      "metadata": {
        "colab": {
          "base_uri": "https://localhost:8080/"
        },
        "id": "EkT8SoFqmYMi",
        "outputId": "719fec3b-1a44-495e-e523-be46590a849f"
      },
      "execution_count": 49,
      "outputs": [
        {
          "output_type": "stream",
          "name": "stdout",
          "text": [
            "[0.25, 0.25, 0.25, 0.25]\n"
          ]
        }
      ]
    },
    {
      "cell_type": "code",
      "source": [
        "df1 = pd.DataFrame({'Type': [\"Stock\", None]})\n",
        "df2 = df1\n",
        "print(df1)\n",
        "print(df2)\n",
        "\n",
        "df1.fillna(\"Mutual Fund\", inplace=True)\n",
        "df2.fillna(\"ETF\")\n",
        "\n",
        "print(df1)\n",
        "print(df2)"
      ],
      "metadata": {
        "colab": {
          "base_uri": "https://localhost:8080/"
        },
        "id": "17lEGJnhmjsv",
        "outputId": "7365d310-7a1f-4534-9cc4-30e02afbd410"
      },
      "execution_count": 51,
      "outputs": [
        {
          "output_type": "stream",
          "name": "stdout",
          "text": [
            "    Type\n",
            "0  Stock\n",
            "1   None\n",
            "    Type\n",
            "0  Stock\n",
            "1   None\n",
            "          Type\n",
            "0        Stock\n",
            "1  Mutual Fund\n",
            "          Type\n",
            "0        Stock\n",
            "1  Mutual Fund\n"
          ]
        }
      ]
    },
    {
      "cell_type": "code",
      "source": [
        "array0 = np.array([3,2,5,2,1])\n",
        "df = pd.DataFrame(array0, columns=['numbers'], index=['a','b','c','d','e'])\n",
        "print(df)\n",
        "df = df.loc[df.index[2:5]].sum() #ix\n",
        "print(df)\n",
        "dr = df**2\n",
        "print(df)\n",
        "print(dr)"
      ],
      "metadata": {
        "colab": {
          "base_uri": "https://localhost:8080/"
        },
        "id": "-IeIesAAnBV3",
        "outputId": "5c243e25-95f1-4f4b-f6a3-085adbb083bb"
      },
      "execution_count": 54,
      "outputs": [
        {
          "output_type": "stream",
          "name": "stdout",
          "text": [
            "   numbers\n",
            "a        3\n",
            "b        2\n",
            "c        5\n",
            "d        2\n",
            "e        1\n",
            "numbers    8\n",
            "dtype: int64\n",
            "numbers    8\n",
            "dtype: int64\n",
            "numbers    64\n",
            "dtype: int64\n"
          ]
        }
      ]
    },
    {
      "cell_type": "markdown",
      "source": [
        "Given a CSV file that contains the following data:\n",
        "\n",
        "Name,Value,Company,Founded\n",
        "\n",
        "George Soros,4000000000,Soros Fund Management,1969\n",
        "\n",
        "Tucker Balch,1000000000000,Lucena Research,\n",
        "\n",
        "df = pd.read_csv('top_hedgefund_managers.csv', index_col=\"Company\").sort(columns='Value', ascending=False).fillna('TBD')\n",
        "\n",
        "print(df)\n",
        "\n",
        "output:\n",
        "\n",
        "                   Name          Value Founded   Company\n",
        "\n",
        "Lucena Research        Tucker Balch  1000000000000     TBD\n",
        "\n",
        "Soros Fund Management  George Soros     4000000000    1969"
      ],
      "metadata": {
        "id": "R8VCGFf7oOfP"
      }
    },
    {
      "cell_type": "code",
      "source": [
        "m = np.array([[1, 3, 5], [2, 4, 6]])\n",
        "n = np.array([[1, 2, 3], [1, 2, 3]])\n",
        "print(np.sum(m, axis=0))\n",
        "print(np.mean(n,axis=0))\n",
        "print(np.sum(m, axis=0)+np.mean(n,axis=0))"
      ],
      "metadata": {
        "colab": {
          "base_uri": "https://localhost:8080/"
        },
        "id": "2x5k1OvDno0y",
        "outputId": "85944c88-e8b2-4591-82dd-d1714ac92ab4"
      },
      "execution_count": 56,
      "outputs": [
        {
          "output_type": "stream",
          "name": "stdout",
          "text": [
            "[ 3  7 11]\n",
            "[1. 2. 3.]\n",
            "[ 4.  9. 14.]\n"
          ]
        }
      ]
    },
    {
      "cell_type": "code",
      "source": [
        "a = np.array([1,2,3,4,5])\n",
        "print (a * a[::-1])"
      ],
      "metadata": {
        "colab": {
          "base_uri": "https://localhost:8080/"
        },
        "id": "cTLIJSejpcoq",
        "outputId": "70b6734b-d196-450b-9e78-701ca89b51b3"
      },
      "execution_count": 57,
      "outputs": [
        {
          "output_type": "stream",
          "name": "stdout",
          "text": [
            "[5 8 9 8 5]\n"
          ]
        }
      ]
    },
    {
      "cell_type": "code",
      "source": [
        "data = {'A': [100, 60, 30, 130], 'B': [5, 15, 15, 5],'C': [100, 300, 100, 200],'D': [20, 20, 30, 30]}\n",
        "df = pd.DataFrame(data)\n",
        "print(df)\n",
        "\n",
        "df = df.shift(2)\n",
        "print(df)\n",
        "print(df.mean())"
      ],
      "metadata": {
        "colab": {
          "base_uri": "https://localhost:8080/"
        },
        "id": "6T9TqpYZpphz",
        "outputId": "858ac8f4-3e75-489d-8d55-e87d57766130"
      },
      "execution_count": 58,
      "outputs": [
        {
          "output_type": "stream",
          "name": "stdout",
          "text": [
            "     A   B    C   D\n",
            "0  100   5  100  20\n",
            "1   60  15  300  20\n",
            "2   30  15  100  30\n",
            "3  130   5  200  30\n",
            "       A     B      C     D\n",
            "0    NaN   NaN    NaN   NaN\n",
            "1    NaN   NaN    NaN   NaN\n",
            "2  100.0   5.0  100.0  20.0\n",
            "3   60.0  15.0  300.0  20.0\n",
            "A     80.0\n",
            "B     10.0\n",
            "C    200.0\n",
            "D     20.0\n",
            "dtype: float64\n"
          ]
        }
      ]
    },
    {
      "cell_type": "code",
      "source": [
        "a = [[]]*4\n",
        "print(a)\n",
        "\n",
        "a[0].append(15)\n",
        "print(a)"
      ],
      "metadata": {
        "colab": {
          "base_uri": "https://localhost:8080/"
        },
        "id": "BOjc3W-hqH7C",
        "outputId": "d238f3fe-5a1c-49dd-ade6-9bdd05d0865a"
      },
      "execution_count": 59,
      "outputs": [
        {
          "output_type": "stream",
          "name": "stdout",
          "text": [
            "[[], [], [], []]\n",
            "[[15], [15], [15], [15]]\n"
          ]
        }
      ]
    },
    {
      "cell_type": "code",
      "source": [
        "df = pd.DataFrame({\"A\": [1, 2], \"B\": [3, 4]})\n",
        "print(df)\n",
        "\n",
        "print(df.drop(\"B\", axis=1))\n",
        "print(df)"
      ],
      "metadata": {
        "colab": {
          "base_uri": "https://localhost:8080/"
        },
        "id": "ftqs0P-XqS8O",
        "outputId": "c4f419d5-df40-48b4-f0f7-5d7b45aef02c"
      },
      "execution_count": 65,
      "outputs": [
        {
          "output_type": "stream",
          "name": "stdout",
          "text": [
            "   A  B\n",
            "0  1  3\n",
            "1  2  4\n",
            "   A\n",
            "0  1\n",
            "1  2\n",
            "   A  B\n",
            "0  1  3\n",
            "1  2  4\n"
          ]
        }
      ]
    },
    {
      "cell_type": "code",
      "source": [
        "i= [1,2,3,4,5,6]\n",
        "d = [2,2.5,2.99,3.5,3.8,10]\n",
        "df = pd.DataFrame(index=i, data=d)\n",
        "print(df)\n",
        "print(df/df.shift(1) - 1)"
      ],
      "metadata": {
        "colab": {
          "base_uri": "https://localhost:8080/"
        },
        "id": "3Vdlm9ilq_zu",
        "outputId": "bfd3c0c2-5b47-4fe1-bae8-a98454eaa885"
      },
      "execution_count": 67,
      "outputs": [
        {
          "output_type": "stream",
          "name": "stdout",
          "text": [
            "       0\n",
            "1   2.00\n",
            "2   2.50\n",
            "3   2.99\n",
            "4   3.50\n",
            "5   3.80\n",
            "6  10.00\n",
            "          0\n",
            "1       NaN\n",
            "2  0.250000\n",
            "3  0.196000\n",
            "4  0.170569\n",
            "5  0.085714\n",
            "6  1.631579\n"
          ]
        }
      ]
    },
    {
      "cell_type": "code",
      "source": [
        "x = np.array([[0,1,2],[3,4,5],[4,3,2]])\n",
        "x = x**2\n",
        "print(x)\n",
        "print(x[-1] * x[1])"
      ],
      "metadata": {
        "colab": {
          "base_uri": "https://localhost:8080/"
        },
        "id": "XKZpka7-rbvI",
        "outputId": "4a75724c-44b2-4d28-fb50-85f3a22ae1bf"
      },
      "execution_count": 68,
      "outputs": [
        {
          "output_type": "stream",
          "name": "stdout",
          "text": [
            "[[ 0  1  4]\n",
            " [ 9 16 25]\n",
            " [16  9  4]]\n",
            "[144 144 100]\n"
          ]
        }
      ]
    },
    {
      "cell_type": "code",
      "source": [
        "s = pd.DataFrame([0, 1, 2, np.nan])\n",
        "print(\"size\", s.size)\n",
        "print(\"count:\", s.count())"
      ],
      "metadata": {
        "colab": {
          "base_uri": "https://localhost:8080/"
        },
        "id": "EUb0c_h4rz20",
        "outputId": "941ff592-1c04-42d5-c286-b25da341a3c3"
      },
      "execution_count": 71,
      "outputs": [
        {
          "output_type": "stream",
          "name": "stdout",
          "text": [
            "size 4\n",
            "count: 0    3\n",
            "dtype: int64\n"
          ]
        }
      ]
    },
    {
      "cell_type": "code",
      "source": [
        "df = pd.DataFrame(np.array([(1,2),(3,4),(5,6)]),index=['a','c','e'],columns=['data1','data2'])\n",
        "df = df.reindex(['a','b','c','d','e'])\n",
        "print(df)\n",
        "df = df.fillna(method='ffill')\n",
        "print(df)\n",
        "df = df.sum(axis=1)\n",
        "print(df)"
      ],
      "metadata": {
        "colab": {
          "base_uri": "https://localhost:8080/"
        },
        "id": "DkIKtsAlsMhI",
        "outputId": "ba973c7c-e6a3-422f-c4b9-bc1223d09921"
      },
      "execution_count": 73,
      "outputs": [
        {
          "output_type": "stream",
          "name": "stdout",
          "text": [
            "   data1  data2\n",
            "a    1.0    2.0\n",
            "b    NaN    NaN\n",
            "c    3.0    4.0\n",
            "d    NaN    NaN\n",
            "e    5.0    6.0\n",
            "   data1  data2\n",
            "a    1.0    2.0\n",
            "b    1.0    2.0\n",
            "c    3.0    4.0\n",
            "d    3.0    4.0\n",
            "e    5.0    6.0\n",
            "a     3.0\n",
            "b     3.0\n",
            "c     7.0\n",
            "d     7.0\n",
            "e    11.0\n",
            "dtype: float64\n"
          ]
        }
      ]
    },
    {
      "cell_type": "code",
      "source": [
        "arr = np.ones([1,5])\n",
        "df = pd.DataFrame(arr)\n",
        "print(df)\n",
        "df.loc[:,2:3] = 0  #ix\n",
        "print(df)\n",
        "print(df.values)"
      ],
      "metadata": {
        "colab": {
          "base_uri": "https://localhost:8080/"
        },
        "id": "TucfBJq6su_1",
        "outputId": "1b9c3551-7b95-46d2-a0ef-a24ee9094cda"
      },
      "execution_count": 75,
      "outputs": [
        {
          "output_type": "stream",
          "name": "stdout",
          "text": [
            "     0    1    2    3    4\n",
            "0  1.0  1.0  1.0  1.0  1.0\n",
            "     0    1    2    3    4\n",
            "0  1.0  1.0  0.0  0.0  1.0\n",
            "[[1. 1. 0. 0. 1.]]\n"
          ]
        }
      ]
    },
    {
      "cell_type": "code",
      "source": [
        "m = np.arange(20).reshape(4,5)\n",
        "print(m)\n",
        "print(m.cumsum(axis=1))\n",
        "print(m.cumsum(axis=0))\n",
        "print(m.sum(axis=1))\n",
        "print(m.sum(axis=0))"
      ],
      "metadata": {
        "colab": {
          "base_uri": "https://localhost:8080/"
        },
        "id": "8IrECmnktPWU",
        "outputId": "aaee5880-e2e0-44bd-9534-e557ef2ac9ef"
      },
      "execution_count": 77,
      "outputs": [
        {
          "output_type": "stream",
          "name": "stdout",
          "text": [
            "[[ 0  1  2  3  4]\n",
            " [ 5  6  7  8  9]\n",
            " [10 11 12 13 14]\n",
            " [15 16 17 18 19]]\n",
            "[[ 0  1  3  6 10]\n",
            " [ 5 11 18 26 35]\n",
            " [10 21 33 46 60]\n",
            " [15 31 48 66 85]]\n",
            "[[ 0  1  2  3  4]\n",
            " [ 5  7  9 11 13]\n",
            " [15 18 21 24 27]\n",
            " [30 34 38 42 46]]\n",
            "[10 35 60 85]\n",
            "[30 34 38 42 46]\n"
          ]
        }
      ]
    },
    {
      "cell_type": "code",
      "source": [
        "df = np.array([25,4,78,54,6,21,45,2])\n",
        "print(pd.Series(df).rolling(window=2, min_periods=2).max())\n",
        "print(pd.Series(df).rolling(window=2).max())"
      ],
      "metadata": {
        "colab": {
          "base_uri": "https://localhost:8080/"
        },
        "id": "Thfa_-qQtqJg",
        "outputId": "1f4d88a9-acff-4680-ed41-4cb17ac97607"
      },
      "execution_count": 82,
      "outputs": [
        {
          "output_type": "stream",
          "name": "stdout",
          "text": [
            "0     NaN\n",
            "1    25.0\n",
            "2    78.0\n",
            "3    78.0\n",
            "4    54.0\n",
            "5    21.0\n",
            "6    45.0\n",
            "7    45.0\n",
            "dtype: float64\n",
            "0     NaN\n",
            "1    25.0\n",
            "2    78.0\n",
            "3    78.0\n",
            "4    54.0\n",
            "5    21.0\n",
            "6    45.0\n",
            "7    45.0\n",
            "dtype: float64\n"
          ]
        }
      ]
    },
    {
      "cell_type": "code",
      "source": [
        "A = np.zeros((4,4), dtype=int)\n",
        "A[1::2, ::2] = 1\n",
        "print(A)\n",
        "\n",
        "A[::2, 1::2] = 1\n",
        "print(A)"
      ],
      "metadata": {
        "colab": {
          "base_uri": "https://localhost:8080/"
        },
        "id": "v5nFOly0urbn",
        "outputId": "c505a26a-187a-4121-bfd3-2d0ecaaeb131"
      },
      "execution_count": 83,
      "outputs": [
        {
          "output_type": "stream",
          "name": "stdout",
          "text": [
            "[[0 0 0 0]\n",
            " [1 0 1 0]\n",
            " [0 0 0 0]\n",
            " [1 0 1 0]]\n",
            "[[0 1 0 1]\n",
            " [1 0 1 0]\n",
            " [0 1 0 1]\n",
            " [1 0 1 0]]\n"
          ]
        }
      ]
    },
    {
      "cell_type": "code",
      "source": [
        "x = np.random.randint(5, size=(4, 5))\n",
        "print(x)\n",
        "\n",
        "x[1][::2] = 777\n",
        "print(x)"
      ],
      "metadata": {
        "colab": {
          "base_uri": "https://localhost:8080/"
        },
        "id": "dj_yBK__vHMV",
        "outputId": "1986e676-a094-4c6d-c8dd-c1f3853f751d"
      },
      "execution_count": 84,
      "outputs": [
        {
          "output_type": "stream",
          "name": "stdout",
          "text": [
            "[[4 0 2 2 3]\n",
            " [2 4 4 2 2]\n",
            " [3 0 2 3 4]\n",
            " [4 4 1 3 3]]\n",
            "[[  4   0   2   2   3]\n",
            " [777   4 777   2 777]\n",
            " [  3   0   2   3   4]\n",
            " [  4   4   1   3   3]]\n"
          ]
        }
      ]
    },
    {
      "cell_type": "code",
      "source": [
        "red = np.array([[3,4],[2,4]])\n",
        "x = ([2,5],[2,3])\n",
        "x = np.asarray(x)\n",
        "blue = red * x[-2,:]\n",
        "print(x[-2,:])\n",
        "print(blue)"
      ],
      "metadata": {
        "colab": {
          "base_uri": "https://localhost:8080/"
        },
        "id": "-noICMIzvTfs",
        "outputId": "c735704b-8072-4d1b-979f-af4080d94985"
      },
      "execution_count": 86,
      "outputs": [
        {
          "output_type": "stream",
          "name": "stdout",
          "text": [
            "[2 5]\n",
            "[[ 6 20]\n",
            " [ 4 20]]\n"
          ]
        }
      ]
    },
    {
      "cell_type": "code",
      "source": [
        "arr = np.array([[1,2,5],[2,4,2],[3,3,2]])\n",
        "x = arr[:,1].sum(),arr[0:].sum().sum(axis=0)\n",
        "print(x)"
      ],
      "metadata": {
        "colab": {
          "base_uri": "https://localhost:8080/"
        },
        "id": "BU9JIVdfvs_h",
        "outputId": "adcfceac-7363-47e6-c10d-61f25236eabc"
      },
      "execution_count": 87,
      "outputs": [
        {
          "output_type": "stream",
          "name": "stdout",
          "text": [
            "(9, 24)\n"
          ]
        }
      ]
    },
    {
      "cell_type": "code",
      "source": [
        "x = np.array([[0, 1, 2, 3, 4],[5, 6, 7, 8, 9],[10, 11, 12, 13, 14]])\n",
        "print(x)\n",
        "print(x[0:2,3:4])"
      ],
      "metadata": {
        "colab": {
          "base_uri": "https://localhost:8080/"
        },
        "id": "072NXpidwFk7",
        "outputId": "f45d4048-3f11-4b66-9e03-a98e7cf4eaf4"
      },
      "execution_count": 88,
      "outputs": [
        {
          "output_type": "stream",
          "name": "stdout",
          "text": [
            "[[ 0  1  2  3  4]\n",
            " [ 5  6  7  8  9]\n",
            " [10 11 12 13 14]]\n",
            "[[3]\n",
            " [8]]\n"
          ]
        }
      ]
    },
    {
      "cell_type": "code",
      "source": [
        "j = np.array([(1,2,3),(4,5,6),(7,8,9)])\n",
        "k = j[:,-1:]\n",
        "print(k.shape)"
      ],
      "metadata": {
        "colab": {
          "base_uri": "https://localhost:8080/"
        },
        "id": "fEeBL0yqwXL3",
        "outputId": "7548b35f-783a-40fa-e3a0-26b0033238c6"
      },
      "execution_count": 89,
      "outputs": [
        {
          "output_type": "stream",
          "name": "stdout",
          "text": [
            "(3, 1)\n"
          ]
        }
      ]
    },
    {
      "cell_type": "code",
      "source": [
        "a= np.array([[4,1, 6, 9], [4, 9, 2, 5], [7, 0, 9, 7], [6, 1, 9, 5], [6, 6, 3, 9]])\n",
        "print(a[1:3,1:2].sum())"
      ],
      "metadata": {
        "colab": {
          "base_uri": "https://localhost:8080/"
        },
        "id": "5xBKBd-mwaq-",
        "outputId": "5c7e242d-a101-4de7-8ab7-40cc76f4b39a"
      },
      "execution_count": 91,
      "outputs": [
        {
          "output_type": "stream",
          "name": "stdout",
          "text": [
            "9\n"
          ]
        }
      ]
    },
    {
      "cell_type": "code",
      "source": [
        "data = { 'key': [ 'B','D','C','A' ], 'value': [ 1,2,3,4 ]}\n",
        "sub = pd.DataFrame.from_dict( data ).sort_values([ 'key' ]).loc[ 0:1 ] #ix\n",
        "print(sub.value.mean())"
      ],
      "metadata": {
        "colab": {
          "base_uri": "https://localhost:8080/"
        },
        "id": "d1TumK3Aw9ST",
        "outputId": "dea5ca21-7ca8-4835-a544-e59b9d544bac"
      },
      "execution_count": 96,
      "outputs": [
        {
          "output_type": "stream",
          "name": "stdout",
          "text": [
            "2.0\n"
          ]
        }
      ]
    },
    {
      "cell_type": "code",
      "source": [
        "r = np.random.randint(20, size=(4, 6))\n",
        "print(r)\n",
        "\n",
        "r[np.where(r[:,1]>10),1]"
      ],
      "metadata": {
        "colab": {
          "base_uri": "https://localhost:8080/"
        },
        "id": "xAdUpFTkxZWN",
        "outputId": "6b8a73f5-81c3-4188-a6d6-4110b542c843"
      },
      "execution_count": 99,
      "outputs": [
        {
          "output_type": "stream",
          "name": "stdout",
          "text": [
            "[[ 6 12  9  1  4 11]\n",
            " [19  1  1  8 14 12]\n",
            " [17  6 19  7  8 12]\n",
            " [ 8 17 12  8  6 16]]\n"
          ]
        },
        {
          "output_type": "execute_result",
          "data": {
            "text/plain": [
              "array([[12, 17]])"
            ]
          },
          "metadata": {},
          "execution_count": 99
        }
      ]
    },
    {
      "cell_type": "code",
      "source": [
        "x = np.array([8,1,3,4,5,2,1,9,6,4,7])\n",
        "print(x[2:7])\n",
        "print(x[2:7][::-1])\n",
        "print(x[2:7][::-1][:-1])\n",
        "print(np.mean(x[2:7][::-1][:-1]))"
      ],
      "metadata": {
        "colab": {
          "base_uri": "https://localhost:8080/"
        },
        "id": "Mvc6Z4Qox7tc",
        "outputId": "e1253733-ea0b-4c4a-838b-a615df870206"
      },
      "execution_count": 102,
      "outputs": [
        {
          "output_type": "stream",
          "name": "stdout",
          "text": [
            "[3 4 5 2 1]\n",
            "[1 2 5 4 3]\n",
            "[1 2 5 4]\n",
            "3.0\n"
          ]
        }
      ]
    },
    {
      "cell_type": "code",
      "source": [
        "a = np.array([2, 7, 11, 9, 3])\n",
        "a[a < 5] = 5\n",
        "a[2] = 10\n",
        "print(a)"
      ],
      "metadata": {
        "colab": {
          "base_uri": "https://localhost:8080/"
        },
        "id": "8jlTKeuQyd3L",
        "outputId": "55f7e666-4be5-4973-b3ac-5560ca4d5232"
      },
      "execution_count": 103,
      "outputs": [
        {
          "output_type": "stream",
          "name": "stdout",
          "text": [
            "[ 5  7 10  9  5]\n"
          ]
        }
      ]
    },
    {
      "cell_type": "code",
      "source": [
        "a = pd.Series([1, 2, 4, 7, 11, 16])\n",
        "b = a-a.shift(1)\n",
        "print(a)\n",
        "print(b)\n",
        "print(b.values[-1]*1.0)"
      ],
      "metadata": {
        "colab": {
          "base_uri": "https://localhost:8080/"
        },
        "id": "pnWfRBg8yhaL",
        "outputId": "3c168beb-9d46-4e01-91dc-a26515a42bb1"
      },
      "execution_count": 107,
      "outputs": [
        {
          "output_type": "stream",
          "name": "stdout",
          "text": [
            "0     1\n",
            "1     2\n",
            "2     4\n",
            "3     7\n",
            "4    11\n",
            "5    16\n",
            "dtype: int64\n",
            "0    NaN\n",
            "1    1.0\n",
            "2    2.0\n",
            "3    3.0\n",
            "4    4.0\n",
            "5    5.0\n",
            "dtype: float64\n",
            "5.0\n"
          ]
        }
      ]
    },
    {
      "cell_type": "code",
      "source": [
        "data = [1.0, 1.05, 1.2, 0.99, 1.5]\n",
        "\n",
        "# create dates starting Jan 1st and ending Jan 5th\n",
        "ind = pd.date_range(start='2016-01-01', end='2016-01-05')\n",
        "name = ['daily_returns']\n",
        "df = pd.DataFrame(data=data, index=ind, columns=name)\n",
        "a = df['daily_returns'] - df['daily_returns'].mean()\n",
        "b = (a**2).sum()\n",
        "c = df.shape[0]-1\n",
        "\n",
        "# return The sample standard deviation of daily_returns\n",
        "print((b/c)**0.5)\n"
      ],
      "metadata": {
        "colab": {
          "base_uri": "https://localhost:8080/"
        },
        "id": "UHtODsofziCv",
        "outputId": "942c9268-f73d-4bdf-bc35-5b67f3b29d93"
      },
      "execution_count": 109,
      "outputs": [
        {
          "output_type": "stream",
          "name": "stdout",
          "text": [
            "0.21393924371185385\n"
          ]
        }
      ]
    },
    {
      "cell_type": "code",
      "source": [
        "a = np.random.random([5])\n",
        "print(a)\n",
        "print(a[-5:-3])"
      ],
      "metadata": {
        "colab": {
          "base_uri": "https://localhost:8080/"
        },
        "id": "3zbEneqgz9SW",
        "outputId": "6b220fb1-5585-4455-8a63-0934ef7d3af7"
      },
      "execution_count": 110,
      "outputs": [
        {
          "output_type": "stream",
          "name": "stdout",
          "text": [
            "[0.63486956 0.26155276 0.7862306  0.01538735 0.37111479]\n",
            "[0.63486956 0.26155276]\n"
          ]
        }
      ]
    },
    {
      "cell_type": "code",
      "source": [],
      "metadata": {
        "id": "2jfXWaGs0LIM"
      },
      "execution_count": null,
      "outputs": []
    }
  ]
}